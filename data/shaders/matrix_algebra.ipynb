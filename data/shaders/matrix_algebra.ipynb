{
 "cells": [
  {
   "cell_type": "code",
   "execution_count": 27,
   "metadata": {},
   "outputs": [],
   "source": [
    "import sympy\n",
    "from sympy.vector import Vector\n",
    "from sympy import *\n",
    "from sympy.solvers.solveset import linsolve"
   ]
  },
  {
   "cell_type": "code",
   "execution_count": 45,
   "metadata": {},
   "outputs": [
    {
     "data": {
      "text/latex": [
       "$\\displaystyle - 0.2002002002002 T_{2, 0} p_{0, 0} - 0.2002002002002 T_{2, 1} p_{1, 0} - 0.2002002002002 T_{2, 2} p_{2, 0} - 0.2002002002002 T_{2, 3} p_{3, 0}$"
      ],
      "text/plain": [
       "-0.2002002002002*T[2, 0]*p[0, 0] - 0.2002002002002*T[2, 1]*p[1, 0] - 0.2002002002002*T[2, 2]*p[2, 0] - 0.2002002002002*T[2, 3]*p[3, 0]"
      ]
     },
     "execution_count": 45,
     "metadata": {},
     "output_type": "execute_result"
    }
   ],
   "source": [
    "f = 100.0\n",
    "n = 0.1\n",
    "symbols = [[int(j==3) if i==3 else sympy.symbols(f'a{i}{j}') for j in range(4)] for i in range(4)]\n",
    "x,y,z,w = sympy.symbols('x,y,z,w')\n",
    "px,py,pz,pw = sympy.symbols('px,py,pz,pw')\n",
    "transform = sympy.MatrixSymbol('T', 4, 4)\n",
    "projection = sympy.Matrix([\n",
    "    [x, 0.0, 0.0, 0.0],\n",
    "    [0.0, y, 0.0, 0.0],\n",
    "    [0.0, 0.0, (f+n)/(f-n), 1.0],\n",
    "    [0.0, 0.0, -2.0*f*n/(f-n), 0.0]\n",
    "])\n",
    "position = sympy.MatrixSymbol('p', 4, 1)\n",
    "r = projection * transform * position\n",
    "r[3]"
   ]
  },
  {
   "cell_type": "code",
   "execution_count": 3,
   "metadata": {},
   "outputs": [],
   "source": [
    "x,y,f,n,i,k = sympy.symbols('x,y,f,n,i,k')"
   ]
  },
  {
   "cell_type": "code",
   "execution_count": 4,
   "metadata": {},
   "outputs": [
    {
     "data": {
      "text/latex": [
       "$\\displaystyle \\left[\\begin{matrix}x & 0 & 0 & 0\\\\0 & y & 0 & 0\\\\0 & 0 & \\frac{f + n}{f - n} & 1.0\\\\0 & 0 & - \\frac{2.0 f n}{f - n} & 0\\end{matrix}\\right]$"
      ],
      "text/plain": [
       "Matrix([\n",
       "[x, 0,                0,   0],\n",
       "[0, y,                0,   0],\n",
       "[0, 0,  (f + n)/(f - n), 1.0],\n",
       "[0, 0, -2.0*f*n/(f - n),   0]])"
      ]
     },
     "execution_count": 4,
     "metadata": {},
     "output_type": "execute_result"
    }
   ],
   "source": [
    "proj = sympy.Matrix([\n",
    "    [x, 0.0, 0.0, 0.0],\n",
    "    [0.0, y, 0.0, 0.0],\n",
    "    [0.0, 0.0, (f+n)/(f-n), 1.0],\n",
    "    [0.0, 0.0, -2.0*f*n/(f-n), 0.0]\n",
    "])\n",
    "cproj = sympy.Matrix([\n",
    "    [x, 0.0, 0.0, 0.0],\n",
    "    [0.0, y, 0.0, 0.0],\n",
    "    [0.0, 0.0, i, 1.0],\n",
    "    [0.0, 0.0, k, 0.0]\n",
    "])\n",
    "iproj = sympy.Matrix([\n",
    "    [1/x, 0.0, 0.0, 0.0],\n",
    "    [0.0, 1/y, 0.0, 0.0],\n",
    "    [0.0, 0.0, 0.0, i],\n",
    "    [0.0, 0.0, 1.0, k]\n",
    "])\n",
    "proj"
   ]
  },
  {
   "cell_type": "code",
   "execution_count": 5,
   "metadata": {},
   "outputs": [
    {
     "data": {
      "text/latex": [
       "$\\displaystyle \\left[\\begin{matrix}\\frac{1}{x} & 0 & 0 & 0\\\\0 & \\frac{1}{y} & 0 & 0\\\\0 & 0 & 0 & \\frac{1.0 \\left(- 0.5 f + 0.5 n\\right)}{f n}\\\\0 & 0 & 1.0 & \\frac{0.5}{n} + \\frac{0.5}{f}\\end{matrix}\\right]$"
      ],
      "text/plain": [
       "Matrix([\n",
       "[1/x,   0,   0,                          0],\n",
       "[  0, 1/y,   0,                          0],\n",
       "[  0,   0,   0, 1.0*(-0.5*f + 0.5*n)/(f*n)],\n",
       "[  0,   0, 1.0,              0.5/n + 0.5/f]])"
      ]
     },
     "execution_count": 5,
     "metadata": {},
     "output_type": "execute_result"
    }
   ],
   "source": [
    "proj.inv()"
   ]
  },
  {
   "cell_type": "code",
   "execution_count": 6,
   "metadata": {},
   "outputs": [],
   "source": [
    "a = sympy.simplify(proj.inv()[3,3])\n",
    "b = sympy.simplify(proj.inv()[2,3])"
   ]
  },
  {
   "cell_type": "code",
   "execution_count": 7,
   "metadata": {},
   "outputs": [
    {
     "name": "stdout",
     "output_type": "stream",
     "text": [
      "(-k/(i - 1.0), -k/(i + 1.0))\n",
      "(1/(i + k), -1/(i - k))\n"
     ]
    }
   ],
   "source": [
    "# Ближнее и дальнее отсечение из матрицы проекции\n",
    "print(solve(Equality(proj, cproj), (f,n))[0])\n",
    "\n",
    "# Ближнее и дальнее отсечение из обратной матрицы проекции\n",
    "print(solve(Equality(proj.inv(), iproj), (f,n))[0])"
   ]
  },
  {
   "cell_type": "code",
   "execution_count": 21,
   "metadata": {},
   "outputs": [
    {
     "data": {
      "text/latex": [
       "$\\displaystyle - i \\sqrt[4]{r^{4} - x_{1}^{4}}$"
      ],
      "text/plain": [
       "-I*(r**4 - x1**4)**(1/4)"
      ]
     },
     "execution_count": 21,
     "metadata": {},
     "output_type": "execute_result"
    }
   ],
   "source": [
    "x0, x1, r = symbols('x0, x1, r')\n",
    "solutions = solve(x0**4 + x1**4 - r**4, (x0, ))\n",
    "solutions[0]"
   ]
  }
 ],
 "metadata": {
  "kernelspec": {
   "display_name": "Python 3.8.10 64-bit",
   "language": "python",
   "name": "python3"
  },
  "language_info": {
   "codemirror_mode": {
    "name": "ipython",
    "version": 3
   },
   "file_extension": ".py",
   "mimetype": "text/x-python",
   "name": "python",
   "nbconvert_exporter": "python",
   "pygments_lexer": "ipython3",
   "version": "3.8.10"
  },
  "orig_nbformat": 4,
  "vscode": {
   "interpreter": {
    "hash": "916dbcbb3f70747c44a77c7bcd40155683ae19c65e1c03b4aa3499c5328201f1"
   }
  }
 },
 "nbformat": 4,
 "nbformat_minor": 2
}
